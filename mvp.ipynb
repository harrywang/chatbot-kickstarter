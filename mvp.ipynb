{
 "cells": [
  {
   "attachments": {},
   "cell_type": "markdown",
   "id": "63785634",
   "metadata": {},
   "source": [
    "# Power your products with ChatGPT and your own data\n",
    "\n",
    "This is a walkthrough taking readers through how to build starter Q&A and Chatbot applications using the ChatGPT API and their own data. \n",
    "\n",
    "It is laid out in these sections:\n",
    "- **Setup:** \n",
    "    - Initiate variables and source the data\n",
    "- **Lay the foundations:**\n",
    "    - Set up the vector database to accept vectors and data\n",
    "    - Load the dataset, chunk the data up for embedding and store in the vector database\n",
    "- **Make it a product:**\n",
    "    - Add a retrieval step where users provide queries and we return the most relevant entries\n",
    "    - Summarise search results with GPT-3\n",
    "    - Test out this basic Q&A app in Streamlit\n",
    "- **Build your moat:**\n",
    "    - Create an Assistant class to manage context and interact with our bot\n",
    "    - Use the Chatbot to answer questions using semantic search context\n",
    "    - Test out this basic Chatbot app in Streamlit\n",
    "    \n",
    "Upon completion, you have the building blocks to create your own production chatbot or Q&A application using OpenAI APIs and a vector database.\n",
    "\n",
    "This notebook was originally presented with [these slides](https://drive.google.com/file/d/1dB-RQhZC_Q1iAsHkNNdkqtxxXqYODFYy/view?usp=share_link), which provide visual context for this journey."
   ]
  },
  {
   "cell_type": "code",
   "execution_count": 1,
   "id": "e94ef376",
   "metadata": {},
   "outputs": [],
   "source": [
    "# load OpenAI API Key from `.env` file\n",
    "import openai\n",
    "import os\n",
    "from dotenv import load_dotenv\n",
    "\n",
    "load_dotenv()\n",
    "openai.api_key  = os.getenv('OPENAI_API_KEY')"
   ]
  },
  {
   "attachments": {},
   "cell_type": "markdown",
   "id": "13649895",
   "metadata": {},
   "source": [
    "## Setup\n",
    "\n",
    "First we'll setup our libraries and environment variables"
   ]
  },
  {
   "cell_type": "code",
   "execution_count": 2,
   "id": "7590fbfc",
   "metadata": {},
   "outputs": [],
   "source": [
    "import requests\n",
    "import numpy as np\n",
    "import pandas as pd\n",
    "from typing import Iterator\n",
    "import tiktoken\n",
    "import textract\n",
    "from numpy import array, average\n",
    "\n",
    "from database import get_redis_connection\n",
    "\n",
    "# Set our default models and chunking size\n",
    "from config import COMPLETIONS_MODEL, EMBEDDINGS_MODEL, CHAT_MODEL, TEXT_EMBEDDING_CHUNK_SIZE, VECTOR_FIELD_NAME\n",
    "\n",
    "# Ignore unclosed SSL socket warnings - optional in case you get these errors\n",
    "#import warnings\n",
    "\n",
    "#warnings.filterwarnings(action=\"ignore\", message=\"unclosed\", category=ImportWarning)\n",
    "#warnings.filterwarnings(\"ignore\", category=DeprecationWarning) \n",
    "\n",
    "#pd.set_option('display.max_colwidth', 0)"
   ]
  },
  {
   "cell_type": "code",
   "execution_count": 3,
   "id": "3f90817d",
   "metadata": {},
   "outputs": [
    {
     "data": {
      "text/plain": [
       "['Laws of the Game 2023_24.pdf',\n",
       " 'Official-Playing-Rules-2022-23-NBA-Season.pdf']"
      ]
     },
     "execution_count": 3,
     "metadata": {},
     "output_type": "execute_result"
    }
   ],
   "source": [
    "data_dir = os.path.join(os.curdir,'data')\n",
    "pdf_files = sorted([x for x in os.listdir(data_dir) if 'DS_Store' not in x])\n",
    "pdf_files"
   ]
  },
  {
   "attachments": {},
   "cell_type": "markdown",
   "id": "5dc4018c",
   "metadata": {},
   "source": [
    "## Laying the foundations"
   ]
  },
  {
   "attachments": {},
   "cell_type": "markdown",
   "id": "632b82ed",
   "metadata": {},
   "source": [
    "### Storage\n",
    "\n",
    "We're going to use Redis as our database for both document contents and the vector embeddings. You will need the full Redis Stack to enable use of Redisearch, which is the module that allows semantic search - more detail is in the [docs for Redis Stack](https://redis.io/docs/stack/get-started/install/docker/).\n",
    "\n",
    "To set this up locally, you will need to install Docker and then run the following command: ```docker run -d --name redis-stack -p 6379:6379 -p 8001:8001 redis/redis-stack:latest```.\n",
    "\n",
    "The code used here draws heavily on [this repo](https://github.com/RedisAI/vecsim-demo).\n",
    "\n",
    "After setting up the Docker instance of Redis Stack, you can follow the below instructions to initiate a Redis connection and create a Hierarchical Navigable Small World (HNSW) index for semantic search."
   ]
  },
  {
   "cell_type": "code",
   "execution_count": 4,
   "id": "17d6b886",
   "metadata": {},
   "outputs": [],
   "source": [
    "# Setup Redis\n",
    "from redis import Redis\n",
    "from redis.commands.search.query import Query\n",
    "from redis.commands.search.field import (\n",
    "    TextField,\n",
    "    VectorField,\n",
    "    NumericField\n",
    ")\n",
    "from redis.commands.search.indexDefinition import (\n",
    "    IndexDefinition,\n",
    "    IndexType\n",
    ")\n",
    "\n",
    "redis_client = get_redis_connection()"
   ]
  },
  {
   "cell_type": "code",
   "execution_count": 5,
   "id": "4f3d3e6b",
   "metadata": {},
   "outputs": [],
   "source": [
    "# Constants\n",
    "VECTOR_DIM = 1536 #len(data['title_vector'][0]) # length of the vectors\n",
    "#VECTOR_NUMBER = len(data)                 # initial number of vectors\n",
    "PREFIX = \"sportsdoc\"                            # prefix for the document keys\n",
    "DISTANCE_METRIC = \"COSINE\"                # distance metric for the vectors (ex. COSINE, IP, L2)"
   ]
  },
  {
   "cell_type": "code",
   "execution_count": 6,
   "id": "d3c352ca",
   "metadata": {},
   "outputs": [],
   "source": [
    "# Create search index\n",
    "\n",
    "# Index\n",
    "INDEX_NAME = \"sports-index\"           # name of the search index\n",
    "VECTOR_FIELD_NAME = 'content_vector'\n",
    "\n",
    "# Define RediSearch fields for each of the columns in the dataset\n",
    "# This is where you should add any additional metadata you want to capture\n",
    "filename = TextField(\"filename\")\n",
    "text_chunk = TextField(\"text_chunk\")\n",
    "file_chunk_index = NumericField(\"file_chunk_index\")\n",
    "\n",
    "# define RediSearch vector fields to use HNSW index\n",
    "\n",
    "text_embedding = VectorField(VECTOR_FIELD_NAME,\n",
    "    \"HNSW\", {\n",
    "        \"TYPE\": \"FLOAT32\",\n",
    "        \"DIM\": VECTOR_DIM,\n",
    "        \"DISTANCE_METRIC\": DISTANCE_METRIC\n",
    "    }\n",
    ")\n",
    "# Add all our field objects to a list to be created as an index\n",
    "\n",
    "fields = [filename,text_chunk,file_chunk_index,text_embedding]"
   ]
  },
  {
   "cell_type": "code",
   "execution_count": 7,
   "id": "a6c78b7e",
   "metadata": {},
   "outputs": [
    {
     "data": {
      "text/plain": [
       "True"
      ]
     },
     "execution_count": 7,
     "metadata": {},
     "output_type": "execute_result"
    }
   ],
   "source": [
    "redis_client.ping()"
   ]
  },
  {
   "cell_type": "code",
   "execution_count": 8,
   "id": "cf3ad41f",
   "metadata": {},
   "outputs": [
    {
     "name": "stdout",
     "output_type": "stream",
     "text": [
      "Unknown Index name\n",
      "Not there yet. Creating\n"
     ]
    }
   ],
   "source": [
    "# Optional step to drop the index if it already exists\n",
    "#redis_client.ft(INDEX_NAME).dropindex()\n",
    "\n",
    "# Check if index exists\n",
    "try:\n",
    "    redis_client.ft(INDEX_NAME).info()\n",
    "    print(\"Index already exists\")\n",
    "except Exception as e:\n",
    "    print(e)\n",
    "    # Create RediSearch Index\n",
    "    print('Not there yet. Creating')\n",
    "    redis_client.ft(INDEX_NAME).create_index(\n",
    "        fields = fields,\n",
    "        definition = IndexDefinition(prefix=[PREFIX], index_type=IndexType.HASH)\n",
    "    )"
   ]
  },
  {
   "attachments": {},
   "cell_type": "markdown",
   "id": "f74ebeb5",
   "metadata": {},
   "source": [
    "### Ingestion\n",
    "\n",
    "We'll load up our PDFs and do the following\n",
    "- Initiate our tokenizer\n",
    "- Run a processing pipeline to:\n",
    "    - Mine the text from each PDF\n",
    "    - Split them into chunks and embed them\n",
    "    - Store them in Redis"
   ]
  },
  {
   "cell_type": "code",
   "execution_count": 9,
   "id": "ed23bf9d",
   "metadata": {},
   "outputs": [],
   "source": [
    "# The transformers.py file contains all of the transforming functions, including ones to chunk, embed and load data\n",
    "# For more details, check the file and work through each function individually\n",
    "from transformers import handle_file_string"
   ]
  },
  {
   "cell_type": "code",
   "execution_count": 10,
   "id": "31f299f6",
   "metadata": {},
   "outputs": [
    {
     "name": "stdout",
     "output_type": "stream",
     "text": [
      "./data/Laws of the Game 2023_24.pdf\n",
      "./data/Official-Playing-Rules-2022-23-NBA-Season.pdf\n"
     ]
    }
   ],
   "source": [
    "# Initialise tokenizer\n",
    "tokenizer = tiktoken.get_encoding(\"cl100k_base\")\n",
    "\n",
    "# Process each PDF file and prepare for embedding\n",
    "for pdf_file in pdf_files:\n",
    "    \n",
    "    pdf_path = os.path.join(data_dir, pdf_file)\n",
    "    print(pdf_path)\n",
    "    \n",
    "    # Extract the raw text from each PDF using textract\n",
    "    text = textract.process(pdf_path, method='pdfminer')\n",
    "    \n",
    "    # Chunk each document, embed the contents and load to Redis\n",
    "    handle_file_string((pdf_file, text.decode(\"utf-8\")), tokenizer, redis_client, VECTOR_FIELD_NAME, INDEX_NAME)"
   ]
  },
  {
   "cell_type": "code",
   "execution_count": 11,
   "id": "22aff597",
   "metadata": {},
   "outputs": [
    {
     "data": {
      "text/plain": [
       "'271'"
      ]
     },
     "execution_count": 11,
     "metadata": {},
     "output_type": "execute_result"
    }
   ],
   "source": [
    "# Check that our docs have been inserted\n",
    "redis_client.ft(INDEX_NAME).info()['num_docs']"
   ]
  },
  {
   "attachments": {},
   "cell_type": "markdown",
   "id": "6b12cb6e",
   "metadata": {},
   "source": [
    "## Make it a product\n",
    "\n",
    "Now we can test that our search works as intended by:\n",
    "- Querying our data in Redis using semantic search and verifying results\n",
    "- Adding a step to pass the results to GPT-3 for summarisation"
   ]
  },
  {
   "cell_type": "code",
   "execution_count": 12,
   "id": "e921ac96",
   "metadata": {},
   "outputs": [],
   "source": [
    "from database import get_redis_results\n",
    "pd.set_option('display.max_colwidth', 0)  # this enables showing all result in the cell"
   ]
  },
  {
   "cell_type": "code",
   "execution_count": 13,
   "id": "cb9dfacf",
   "metadata": {},
   "outputs": [
    {
     "data": {
      "text/html": [
       "<div>\n",
       "<style scoped>\n",
       "    .dataframe tbody tr th:only-of-type {\n",
       "        vertical-align: middle;\n",
       "    }\n",
       "\n",
       "    .dataframe tbody tr th {\n",
       "        vertical-align: top;\n",
       "    }\n",
       "\n",
       "    .dataframe thead th {\n",
       "        text-align: right;\n",
       "    }\n",
       "</style>\n",
       "<table border=\"1\" class=\"dataframe\">\n",
       "  <thead>\n",
       "    <tr style=\"text-align: right;\">\n",
       "      <th></th>\n",
       "      <th>id</th>\n",
       "      <th>result</th>\n",
       "      <th>certainty</th>\n",
       "    </tr>\n",
       "  </thead>\n",
       "  <tbody>\n",
       "    <tr>\n",
       "      <th>0</th>\n",
       "      <td>0</td>\n",
       "      <td>•  the player taking the penalty kick or a team-mate offends:   •if the ball enters the goal, the kick is retaken   • if the ball does not enter the goal, the referee stops play and restarts with   an indirect free kick   except for the following when play will be stopped and restarted with an   indirect free kick, regardless of whether or not a goal is scored:   •a penalty kick is kicked backwards   • a team-mate of the identified kicker takes the kick  the referee cautions   the player who took the kick   • feinting to kick the ball once the kicker has completed the run-up (feinting   in the run-up is permitted)  the referee cautions the kicker  • the goalkeeper offends:   •if the ball enters the goal, a goal is awarded    If, before the ball is in play, one of the following occurs:    120    \f • if the ball misses the goal or rebounds from the crossbar or goalpost(s),   the kick is only retaken if the goalkeeper’s offence clearly impacted on the   kicker    • if the ball is prevented from entering the goal by the goalkeeper, the kick is   retaken   If the goalkeeper’s offence results in the kick being retaken, the goalkeeper      is warned for the first offence in the game and cautioned for any subsequent   offence(s) in the game  • a team-mate of the goalkeeper offends:   •if the ball enters the goal, a goal is awarded   •if the ball does not enter the goal, the kick is retaken  •  a player of both teams offends, the kick is retaken unless a player commits   a more serious offence (e.g.</td>\n",
       "      <td>0.162130534649</td>\n",
       "    </tr>\n",
       "    <tr>\n",
       "      <th>1</th>\n",
       "      <td>1</td>\n",
       "      <td>The players other than the kicker and goalkeeper must be:  • at least 9.15 m (10 yds) from the penalty mark  • behind the penalty mark  • inside the field of play  • outside the penalty area   After the players have taken positions in accordance with this Law, the referee   signals for the penalty kick to be taken.   The player taking the penalty kick must kick the ball forward  backheeling is   permitted provided the ball moves forward.   When the ball is kicked, the defending goalkeeper must have at least part of   one foot touching, in line with, or behind, the goal line.  The ball is in play when it is kicked and clearly moves.    119    14 Laws of the Game 2023/24 | Law 14 | The Penalty Kick    \f2. Offences and sanctions    The kicker must not play the ball again until it has touched another player.   The penalty kick is completed when the ball stops moving, goes out of play or   the referee stops play for any offence.   Additional time is allowed for a penalty kick to be taken and completed at the   end of each half of the match or extra time. When additional time is allowed,   the penalty kick is completed when, after the kick has been taken, the ball   stops moving, goes out of play, is played by any player (including the kicker)   other than the defending goalkeeper, or the referee stops play for an offence by   the kicker or the kicker’s team. If a defending team player (including the   goalkeeper) commits an offence and the penalty is missed/saved, the penalty   is retaken.   Once the referee has signalled for a penalty kick to be taken, the kick must be   taken  if it is not taken, the referee may take disciplinary action before   signalling again for the kick to be taken.</td>\n",
       "      <td>0.1637185812</td>\n",
       "    </tr>\n",
       "  </tbody>\n",
       "</table>\n",
       "</div>"
      ],
      "text/plain": [
       "   id  \\\n",
       "0  0    \n",
       "1  1    \n",
       "\n",
       "                                                                                                                                                                                                                                                                                                                                                                                                                                                                                                                                                                                                                                                                                                                                                                                                                                                                                                                                                                                                                                                                                                                                                                                                                                                                                                                                                                                                                                                                                                                                                                                                                                                                                                                                                                                result  \\\n",
       "0    •  the player taking the penalty kick or a team-mate offends:   •if the ball enters the goal, the kick is retaken   • if the ball does not enter the goal, the referee stops play and restarts with   an indirect free kick   except for the following when play will be stopped and restarted with an   indirect free kick, regardless of whether or not a goal is scored:   •a penalty kick is kicked backwards   • a team-mate of the identified kicker takes the kick  the referee cautions   the player who took the kick   • feinting to kick the ball once the kicker has completed the run-up (feinting   in the run-up is permitted)  the referee cautions the kicker  • the goalkeeper offends:   •if the ball enters the goal, a goal is awarded    If, before the ball is in play, one of the following occurs:    120    \n",
       " • if the ball misses the goal or rebounds from the crossbar or goalpost(s),   the kick is only retaken if the goalkeeper’s offence clearly impacted on the   kicker    • if the ball is prevented from entering the goal by the goalkeeper, the kick is   retaken   If the goalkeeper’s offence results in the kick being retaken, the goalkeeper      is warned for the first offence in the game and cautioned for any subsequent   offence(s) in the game  • a team-mate of the goalkeeper offends:   •if the ball enters the goal, a goal is awarded   •if the ball does not enter the goal, the kick is retaken  •  a player of both teams offends, the kick is retaken unless a player commits   a more serious offence (e.g.                                                                                                                                                                                                         \n",
       "1    The players other than the kicker and goalkeeper must be:  • at least 9.15 m (10 yds) from the penalty mark  • behind the penalty mark  • inside the field of play  • outside the penalty area   After the players have taken positions in accordance with this Law, the referee   signals for the penalty kick to be taken.   The player taking the penalty kick must kick the ball forward  backheeling is   permitted provided the ball moves forward.   When the ball is kicked, the defending goalkeeper must have at least part of   one foot touching, in line with, or behind, the goal line.  The ball is in play when it is kicked and clearly moves.    119    14 Laws of the Game 2023/24 | Law 14 | The Penalty Kick    \n",
       "2. Offences and sanctions    The kicker must not play the ball again until it has touched another player.   The penalty kick is completed when the ball stops moving, goes out of play or   the referee stops play for any offence.   Additional time is allowed for a penalty kick to be taken and completed at the   end of each half of the match or extra time. When additional time is allowed,   the penalty kick is completed when, after the kick has been taken, the ball   stops moving, goes out of play, is played by any player (including the kicker)   other than the defending goalkeeper, or the referee stops play for an offence by   the kicker or the kicker’s team. If a defending team player (including the   goalkeeper) commits an offence and the penalty is missed/saved, the penalty   is retaken.   Once the referee has signalled for a penalty kick to be taken, the kick must be   taken  if it is not taken, the referee may take disciplinary action before   signalling again for the kick to be taken.   \n",
       "\n",
       "        certainty  \n",
       "0  0.162130534649  \n",
       "1  0.1637185812    "
      ]
     },
     "execution_count": 13,
     "metadata": {},
     "output_type": "execute_result"
    }
   ],
   "source": [
    "user_query='what is a penalty kick'\n",
    "\n",
    "result_df = get_redis_results(redis_client, user_query, index_name=INDEX_NAME)\n",
    "result_df.head()  # top k is set to 2 by default in database.py"
   ]
  },
  {
   "cell_type": "code",
   "execution_count": 14,
   "id": "51340903",
   "metadata": {},
   "outputs": [
    {
     "name": "stdout",
     "output_type": "stream",
     "text": [
      "• Penalty kick is a kick given to a team when a foul is committed within the penalty area.\n",
      "• It can be taken by the player that was fouled or a team-mate.\n",
      "• If the ball enters the goal, the kick is retaken if the offense affected the kicker, otherwise a goal is awarded.\n",
      "• If the ball does not enter the goal, an indirect free kick is awarded, regardless of whether or not a goal is scored.\n",
      "• If the goalie or a team-mate offends, the kick is retaken unless a more serious offense is committed (e.g. aggression).\n"
     ]
    }
   ],
   "source": [
    "# Build a prompt to provide the original query, the result and ask to summarise for the user\n",
    "summary_prompt = '''Summarise this result in a bulleted list to answer the search query a customer has sent.\n",
    "Search query: SEARCH_QUERY_HERE\n",
    "Search result: SEARCH_RESULT_HERE\n",
    "Summary:\n",
    "'''\n",
    "summary_prepped = summary_prompt.replace('SEARCH_QUERY_HERE', user_query).replace('SEARCH_RESULT_HERE', result_df['result'][0])  # only choose the top 1\n",
    "summary = openai.Completion.create(engine=COMPLETIONS_MODEL, prompt=summary_prepped, max_tokens=500)\n",
    "\n",
    "# Response provided by GPT-3\n",
    "print(summary['choices'][0]['text'])"
   ]
  },
  {
   "attachments": {},
   "cell_type": "markdown",
   "id": "d008ff23",
   "metadata": {},
   "source": [
    "### Search\n",
    "\n",
    "Now that we've got our knowledge embedded and stored in Redis, we can now create an internal search application. Its not sophisticated but it'll get the job done for us.\n",
    "\n",
    "In the directory containing this app, execute ```streamlit run app-search.py```. This will open up a Streamlit app in your browser where you can ask questions of your embedded data.\n",
    "\n",
    "__Example Questions__:\n",
    "- what is a penalty kick?\n",
    "- What does it mean when a player is ejected in basketball?"
   ]
  },
  {
   "attachments": {},
   "cell_type": "markdown",
   "id": "dd12b31e",
   "metadata": {},
   "source": [
    "## Build your moat\n",
    "\n",
    "The Q&A was useful, but fairly limited in the complexity of interaction we can have - if the user asks a sub-optimal question, there is no assistance from the system to prompt them for more info or conversation to lead them down the right path.\n",
    "\n",
    "For the next step we'll make a Chatbot using the Chat Completions endpoint, which will:\n",
    "- Be given instructions on how it should act and what the goals of its users are\n",
    "- Be supplied some required information that it needs to collect\n",
    "- Go back and forth with the customer until it has populated that information\n",
    "- Say a trigger word that will kick off semantic search and summarisation of the response\n",
    "\n",
    "For more details on our Chat Completions endpoint and how to interact with it, please check out the docs [here](https://platform.openai.com/docs/guides/chat)."
   ]
  },
  {
   "attachments": {},
   "cell_type": "markdown",
   "id": "34135886",
   "metadata": {},
   "source": [
    "### Framework\n",
    "\n",
    "This section outlines a basic framework for working with the API and storing context of previous conversation \"turns\". Once this is established, we'll extend it to use our retrieval endpoint."
   ]
  },
  {
   "cell_type": "code",
   "execution_count": 15,
   "id": "45c0acc8",
   "metadata": {},
   "outputs": [
    {
     "name": "stdout",
     "output_type": "stream",
     "text": [
      "assistant: I can help you in several ways:\n",
      "\n",
      "1. Answering questions: I can provide information and answer any queries you may have to the best of my knowledge.\n",
      "\n",
      "2. Providing suggestions: If you're looking for ideas or recommendations, I can offer suggestions based on your needs or preferences.\n",
      "\n",
      "3. Giving instructions: If you need directions or guidelines for a particular task, I can provide step-by-step instructions to assist you.\n",
      "\n",
      "4. Offering support: If you're going through a difficult time or need someone to talk to, I can provide emotional support and lend a listening ear.\n",
      "\n",
      "5. Assisting with research: If you need help finding specific information or conducting research on a particular topic, I can help gather relevant data and resources.\n",
      "\n",
      "6. Language support: I can aid in translation, grammar, or language-related questions if you need assistance with communication.\n",
      "\n",
      "These are just a few ways I can help, but feel free to ask anything else, and I'll do my best to assist you.\n"
     ]
    }
   ],
   "source": [
    "# A basic example of how to interact with our ChatCompletion endpoint\n",
    "# It requires a list of \"messages\", consisting of a \"role\" (one of system, user or assistant) and \"content\"\n",
    "question = 'How can you help me'\n",
    "\n",
    "\n",
    "completion = openai.ChatCompletion.create(\n",
    "  model=\"gpt-3.5-turbo\",\n",
    "  messages=[\n",
    "    {\"role\": \"user\", \"content\": question}\n",
    "  ]\n",
    ")\n",
    "print(f\"{completion['choices'][0]['message']['role']}: {completion['choices'][0]['message']['content']}\")"
   ]
  },
  {
   "cell_type": "code",
   "execution_count": 16,
   "id": "23e4fc55",
   "metadata": {},
   "outputs": [],
   "source": [
    "from termcolor import colored\n",
    "\n",
    "# A basic class to create a message as a dict for chat\n",
    "class Message:\n",
    "    \n",
    "    \n",
    "    def __init__(self,role,content):\n",
    "        \n",
    "        self.role = role\n",
    "        self.content = content\n",
    "        \n",
    "    def message(self):\n",
    "        \n",
    "        return {\"role\": self.role,\"content\": self.content}\n",
    "        \n",
    "# Our assistant class we'll use to converse with the bot\n",
    "class Assistant:\n",
    "    \n",
    "    def __init__(self):\n",
    "        self.conversation_history = []\n",
    "\n",
    "    def _get_assistant_response(self, prompt):\n",
    "        \n",
    "        try:\n",
    "            completion = openai.ChatCompletion.create(\n",
    "              model=\"gpt-3.5-turbo\",\n",
    "              messages=prompt\n",
    "            )\n",
    "            \n",
    "            response_message = Message(completion['choices'][0]['message']['role'], completion['choices'][0]['message']['content'])\n",
    "            return response_message.message()\n",
    "            \n",
    "        except Exception as e:\n",
    "            \n",
    "            return f'Request failed with exception {e}'\n",
    "\n",
    "    def ask_assistant(self, next_user_prompt, colorize_assistant_replies=True):\n",
    "        [self.conversation_history.append(x) for x in next_user_prompt]\n",
    "        assistant_response = self._get_assistant_response(self.conversation_history)\n",
    "        self.conversation_history.append(assistant_response)\n",
    "        return assistant_response\n",
    "            \n",
    "        \n",
    "    def pretty_print_conversation_history(self, colorize_assistant_replies=True):\n",
    "        for entry in self.conversation_history:\n",
    "            if entry['role'] == 'system':\n",
    "                pass\n",
    "            else:\n",
    "                prefix = entry['role']\n",
    "                content = entry['content']\n",
    "                output = colored(prefix +':\\n' + content, 'green') if colorize_assistant_replies and entry['role'] == 'assistant' else prefix +':\\n' + content\n",
    "                print(output)"
   ]
  },
  {
   "cell_type": "code",
   "execution_count": 17,
   "id": "e18c88b4",
   "metadata": {},
   "outputs": [
    {
     "data": {
      "text/plain": [
       "[{'role': 'system',\n",
       "  'content': 'You are a helpful business assistant who has innovative ideas'},\n",
       " {'role': 'user', 'content': 'What can you do to help me'}]"
      ]
     },
     "execution_count": 17,
     "metadata": {},
     "output_type": "execute_result"
    }
   ],
   "source": [
    "# Initiate our Assistant class\n",
    "conversation = Assistant()\n",
    "\n",
    "# Create a list to hold our messages and insert both a system message to guide behaviour and our first user question\n",
    "messages = []\n",
    "system_message = Message('system','You are a helpful business assistant who has innovative ideas')\n",
    "user_message = Message('user','What can you do to help me')\n",
    "messages.append(system_message.message())\n",
    "messages.append(user_message.message())\n",
    "messages"
   ]
  },
  {
   "cell_type": "code",
   "execution_count": 18,
   "id": "377243c9",
   "metadata": {},
   "outputs": [
    {
     "name": "stdout",
     "output_type": "stream",
     "text": [
      "As a helpful business assistant, I can provide a wide range of assistance to help you grow and succeed in your business. Here are a few ways I can help:\n",
      "\n",
      "1. Idea generation: I can brainstorm innovative ideas for product development, marketing strategies, customer engagement, and more. These ideas can help you differentiate your business from competitors and capture new opportunities.\n",
      "\n",
      "2. Market research: I can conduct thorough market research to gather data and insights about your target audience, industry trends, competitor analysis, and emerging markets. This information can help you make informed decisions and stay ahead of the competition.\n",
      "\n",
      "3. Business planning: I can assist you in creating a comprehensive business plan that outlines your objectives, strategies, financial projections, and action steps. This plan will serve as a roadmap for your business and guide your decision-making process.\n",
      "\n",
      "4. Process optimization: I can analyze your existing business processes and identify areas for improvement. By streamlining processes, eliminating bottlenecks, and implementing automation where necessary, you can increase efficiency, reduce costs, and enhance productivity.\n",
      "\n",
      "5. Digital marketing strategies: I can help you develop effective online marketing strategies to reach and engage your target audience. This includes social media marketing, content creation, search engine optimization, paid advertising campaigns, and email marketing.\n",
      "\n",
      "6. Technology integration: I can assist you in evaluating and implementing the right technology solutions for your business needs. This may include customer relationship management (CRM) systems, project management tools, accounting software, or any other technology that can improve your operational efficiency.\n",
      "\n",
      "7. Performance tracking and analysis: I can help you set up key performance indicators (KPIs) and tracking systems to monitor the progress of your business objectives. By analyzing the data collected, we can identify trends, make data-driven decisions, and continuously improve your business performance.\n",
      "\n",
      "8. Networking opportunities: I can connect you with industry professionals, potential partners, and like-minded entrepreneurs through networking events, online communities, and professional organizations. Building a strong network can open doors to new opportunities and collaborations.\n",
      "\n",
      "These are just a few ways I can assist you in growing your business. Let me know your specific needs, and I can tailor my assistance to suit your requirements.\n"
     ]
    }
   ],
   "source": [
    "# Get back a response from the Chatbot to our question\n",
    "response_message = conversation.ask_assistant(messages)\n",
    "print(response_message['content'])"
   ]
  },
  {
   "cell_type": "code",
   "execution_count": 19,
   "id": "f364c3b5",
   "metadata": {},
   "outputs": [
    {
     "name": "stdout",
     "output_type": "stream",
     "text": [
      "Certainly! Market research is a crucial component of any business strategy as it helps you gain insights into your target market, understand customer needs and preferences, analyze industry trends, and identify opportunities for growth. Here's a deeper dive into how I can help with market research:\n",
      "\n",
      "1. Target audience analysis: I can help you identify and define your target audience by conducting thorough demographic, psychographic, and behavioral research. This includes analyzing factors such as age, gender, location, interests, purchasing behavior, and more. Understanding your target audience enables you to tailor your products, services, and marketing efforts to better meet their needs.\n",
      "\n",
      "2. Competitive analysis: I can conduct in-depth research on your competitors, analyzing factors such as their products or services, pricing, marketing strategies, strengths, weaknesses, and market positioning. This competitive intelligence helps you understand your industry landscape, identify gaps or opportunities, and develop strategies to differentiate yourself from competitors.\n",
      "\n",
      "3. Industry trends and market analysis: I can provide you with up-to-date information on the latest industry trends, innovations, consumer preferences, and market dynamics. This helps you stay informed about market changes and adapt your strategies accordingly.\n",
      "\n",
      "4. Customer feedback and surveys: I can help you design and conduct customer surveys or feedback mechanisms to gather insights directly from your target audience. This feedback can provide valuable information about customer satisfaction, preferences, pain points, and areas for improvement.\n",
      "\n",
      "5. Market segmentation: I can assist you in segmenting your target market based on various criteria, such as demographics, behavior, geographic location, or psychographic characteristics. This segmentation allows for more personalized marketing strategies and targeting, ultimately improving customer engagement and conversion rates.\n",
      "\n",
      "6. New market opportunities: By analyzing emerging markets or niche segments, I can help identify new opportunities for expansion or diversification. This may include exploring untapped customer segments, geographic areas, or verticals where your products or services could be a good fit.\n",
      "\n",
      "By leveraging market research, you can make informed business decisions, develop effective marketing strategies, innovate products/services, and stay ahead of your competitors. Let me know if you would like to explore this further or have any specific market research needs!\n"
     ]
    }
   ],
   "source": [
    "next_question = 'Tell me more about option 2'\n",
    "\n",
    "# Initiate a fresh messages list and insert our next question\n",
    "messages = []\n",
    "user_message = Message('user', next_question)\n",
    "messages.append(user_message.message())\n",
    "response_message = conversation.ask_assistant(messages)\n",
    "print(response_message['content'])"
   ]
  },
  {
   "cell_type": "code",
   "execution_count": 20,
   "id": "94ba4b5c",
   "metadata": {},
   "outputs": [
    {
     "name": "stdout",
     "output_type": "stream",
     "text": [
      "Apologies for the confusion. Option 2 refers to conducting thorough market research. Here's a summary of how I can assist you with market research:\n",
      "\n",
      "I can help you gather data and insights about your target audience, industry trends, competitor analysis, and emerging markets. This information is crucial for making informed decisions and staying ahead of the competition. I assist in:\n",
      "\n",
      "1. Target audience analysis: Defining and understanding your target audience in terms of demographics, psychographics, and behavior.\n",
      "\n",
      "2. Competitive analysis: Researching your competitors, their offerings, pricing, marketing strategies, strengths, and weaknesses.\n",
      "\n",
      "3. Industry trends and market analysis: Providing up-to-date information on industry trends, consumer preferences, and market dynamics.\n",
      "\n",
      "4. Customer feedback and surveys: Designing and conducting customer surveys to gather insights on satisfaction, preferences, and pain points.\n",
      "\n",
      "5. Market segmentation: Segmenting your target market based on demographics, behavior, or psychographics for personalized marketing strategies.\n",
      "\n",
      "6. New market opportunities: Identifying emerging markets or niche segments for potential expansion or diversification.\n",
      "\n",
      "By leveraging market research, you can make informed business decisions, develop effective marketing strategies, innovate products/services, and stay ahead of your competitors. Let me know if you would like to explore this further or have any specific market research needs!\n"
     ]
    }
   ],
   "source": [
    "next_question = 'which option I asked you about?'\n",
    "\n",
    "# Initiate a fresh messages list and insert our next question\n",
    "messages = []\n",
    "user_message = Message('user', next_question)\n",
    "messages.append(user_message.message())\n",
    "response_message = conversation.ask_assistant(messages)\n",
    "print(response_message['content'])"
   ]
  },
  {
   "cell_type": "code",
   "execution_count": 21,
   "id": "f62842a1",
   "metadata": {},
   "outputs": [
    {
     "name": "stdout",
     "output_type": "stream",
     "text": [
      "user:\n",
      "What can you do to help me\n",
      "\u001b[32massistant:\n",
      "As a helpful business assistant, I can provide a wide range of assistance to help you grow and succeed in your business. Here are a few ways I can help:\n",
      "\n",
      "1. Idea generation: I can brainstorm innovative ideas for product development, marketing strategies, customer engagement, and more. These ideas can help you differentiate your business from competitors and capture new opportunities.\n",
      "\n",
      "2. Market research: I can conduct thorough market research to gather data and insights about your target audience, industry trends, competitor analysis, and emerging markets. This information can help you make informed decisions and stay ahead of the competition.\n",
      "\n",
      "3. Business planning: I can assist you in creating a comprehensive business plan that outlines your objectives, strategies, financial projections, and action steps. This plan will serve as a roadmap for your business and guide your decision-making process.\n",
      "\n",
      "4. Process optimization: I can analyze your existing business processes and identify areas for improvement. By streamlining processes, eliminating bottlenecks, and implementing automation where necessary, you can increase efficiency, reduce costs, and enhance productivity.\n",
      "\n",
      "5. Digital marketing strategies: I can help you develop effective online marketing strategies to reach and engage your target audience. This includes social media marketing, content creation, search engine optimization, paid advertising campaigns, and email marketing.\n",
      "\n",
      "6. Technology integration: I can assist you in evaluating and implementing the right technology solutions for your business needs. This may include customer relationship management (CRM) systems, project management tools, accounting software, or any other technology that can improve your operational efficiency.\n",
      "\n",
      "7. Performance tracking and analysis: I can help you set up key performance indicators (KPIs) and tracking systems to monitor the progress of your business objectives. By analyzing the data collected, we can identify trends, make data-driven decisions, and continuously improve your business performance.\n",
      "\n",
      "8. Networking opportunities: I can connect you with industry professionals, potential partners, and like-minded entrepreneurs through networking events, online communities, and professional organizations. Building a strong network can open doors to new opportunities and collaborations.\n",
      "\n",
      "These are just a few ways I can assist you in growing your business. Let me know your specific needs, and I can tailor my assistance to suit your requirements.\u001b[0m\n",
      "user:\n",
      "Tell me more about option 2\n",
      "\u001b[32massistant:\n",
      "Certainly! Market research is a crucial component of any business strategy as it helps you gain insights into your target market, understand customer needs and preferences, analyze industry trends, and identify opportunities for growth. Here's a deeper dive into how I can help with market research:\n",
      "\n",
      "1. Target audience analysis: I can help you identify and define your target audience by conducting thorough demographic, psychographic, and behavioral research. This includes analyzing factors such as age, gender, location, interests, purchasing behavior, and more. Understanding your target audience enables you to tailor your products, services, and marketing efforts to better meet their needs.\n",
      "\n",
      "2. Competitive analysis: I can conduct in-depth research on your competitors, analyzing factors such as their products or services, pricing, marketing strategies, strengths, weaknesses, and market positioning. This competitive intelligence helps you understand your industry landscape, identify gaps or opportunities, and develop strategies to differentiate yourself from competitors.\n",
      "\n",
      "3. Industry trends and market analysis: I can provide you with up-to-date information on the latest industry trends, innovations, consumer preferences, and market dynamics. This helps you stay informed about market changes and adapt your strategies accordingly.\n",
      "\n",
      "4. Customer feedback and surveys: I can help you design and conduct customer surveys or feedback mechanisms to gather insights directly from your target audience. This feedback can provide valuable information about customer satisfaction, preferences, pain points, and areas for improvement.\n",
      "\n",
      "5. Market segmentation: I can assist you in segmenting your target market based on various criteria, such as demographics, behavior, geographic location, or psychographic characteristics. This segmentation allows for more personalized marketing strategies and targeting, ultimately improving customer engagement and conversion rates.\n",
      "\n",
      "6. New market opportunities: By analyzing emerging markets or niche segments, I can help identify new opportunities for expansion or diversification. This may include exploring untapped customer segments, geographic areas, or verticals where your products or services could be a good fit.\n",
      "\n",
      "By leveraging market research, you can make informed business decisions, develop effective marketing strategies, innovate products/services, and stay ahead of your competitors. Let me know if you would like to explore this further or have any specific market research needs!\u001b[0m\n",
      "user:\n",
      "which option I asked you about?\n",
      "\u001b[32massistant:\n",
      "Apologies for the confusion. Option 2 refers to conducting thorough market research. Here's a summary of how I can assist you with market research:\n",
      "\n",
      "I can help you gather data and insights about your target audience, industry trends, competitor analysis, and emerging markets. This information is crucial for making informed decisions and staying ahead of the competition. I assist in:\n",
      "\n",
      "1. Target audience analysis: Defining and understanding your target audience in terms of demographics, psychographics, and behavior.\n",
      "\n",
      "2. Competitive analysis: Researching your competitors, their offerings, pricing, marketing strategies, strengths, and weaknesses.\n",
      "\n",
      "3. Industry trends and market analysis: Providing up-to-date information on industry trends, consumer preferences, and market dynamics.\n",
      "\n",
      "4. Customer feedback and surveys: Designing and conducting customer surveys to gather insights on satisfaction, preferences, and pain points.\n",
      "\n",
      "5. Market segmentation: Segmenting your target market based on demographics, behavior, or psychographics for personalized marketing strategies.\n",
      "\n",
      "6. New market opportunities: Identifying emerging markets or niche segments for potential expansion or diversification.\n",
      "\n",
      "By leveraging market research, you can make informed business decisions, develop effective marketing strategies, innovate products/services, and stay ahead of your competitors. Let me know if you would like to explore this further or have any specific market research needs!\u001b[0m\n"
     ]
    }
   ],
   "source": [
    "# Print out a log of our conversation so far\n",
    "conversation.pretty_print_conversation_history()"
   ]
  },
  {
   "attachments": {},
   "cell_type": "markdown",
   "id": "f18d5b54",
   "metadata": {},
   "source": [
    "### Knowledge retrieval\n",
    "\n",
    "Now we'll extend the class to call a downstream service when a stop sequence is spoken by the Chatbot.\n",
    "\n",
    "The main changes are:\n",
    "- The system message is more comprehensive, giving criteria for the Chatbot to advance the conversation\n",
    "- Adding an explicit stop sequence for it to use when it has the info it needs\n",
    "- Extending the class with a function ```_get_search_results``` which sources Redis results"
   ]
  },
  {
   "cell_type": "code",
   "execution_count": 22,
   "id": "8a0cef87",
   "metadata": {},
   "outputs": [],
   "source": [
    "# Updated system prompt requiring Question and sport to be extracted from the user\n",
    "system_prompt = '''\n",
    "You are a helpful sports knowledge base assistant. You need to capture a Question and Year from each customer.\n",
    "The Question is their query on sports rule, and the Sport is the sport of concern, which is either basketball or soccer.\n",
    "Think about this step by step:\n",
    "- The user will ask a Question\n",
    "- You will ask them for the Sport if their question didn't include a Sport\n",
    "- Once you have the Sport, say \"searching for answers\".\n",
    "\n",
    "Example:\n",
    "\n",
    "User: I'd like to know how many players on each team\n",
    "\n",
    "Assistant: Certainly, what sport would you like this for?\n",
    "\n",
    "User: basketball please.\n",
    "\n",
    "Assistant: Searching for answers.\n",
    "'''\n",
    "\n",
    "# New Assistant class to add a vector database call to its responses\n",
    "class RetrievalAssistant:\n",
    "    \n",
    "    def __init__(self):\n",
    "        self.conversation_history = []  \n",
    "\n",
    "    def _get_assistant_response(self, prompt):\n",
    "        \n",
    "        try:\n",
    "            completion = openai.ChatCompletion.create(\n",
    "              model=CHAT_MODEL,\n",
    "              messages=prompt,\n",
    "              temperature=0.1\n",
    "            )\n",
    "            \n",
    "            response_message = Message(completion['choices'][0]['message']['role'], completion['choices'][0]['message']['content'])\n",
    "            return response_message.message()\n",
    "            \n",
    "        except Exception as e:\n",
    "            \n",
    "            return f'Request failed with exception {e}'\n",
    "    \n",
    "    # The function to retrieve Redis search results\n",
    "    def _get_search_results(self, prompt):\n",
    "        latest_question = prompt\n",
    "        search_content = get_redis_results(redis_client, latest_question, INDEX_NAME)['result'][0]\n",
    "        return search_content\n",
    "        \n",
    "\n",
    "    def ask_assistant(self, next_user_prompt):\n",
    "        [self.conversation_history.append(x) for x in next_user_prompt]\n",
    "        assistant_response = self._get_assistant_response(self.conversation_history)\n",
    "        \n",
    "        # Answer normally unless the trigger sequence is used \"searching_for_answers\"\n",
    "        if 'searching for answers' in assistant_response['content'].lower():\n",
    "            print('search function call triggered')\n",
    "            question_extract = openai.Completion.create(model=COMPLETIONS_MODEL, prompt=f\"Extract the user's latest question and the sport for that question from this conversation: {self.conversation_history}. Extract it as a sentence stating the Question and Sport\")\n",
    "            search_result = self._get_search_results(question_extract['choices'][0]['text'])\n",
    "            print('search result', search_result)\n",
    "            \n",
    "            # We insert an extra system prompt here to give fresh context to the Chatbot on how to use the Redis results\n",
    "            # In this instance we add it to the conversation history, but in production it may be better to hide\n",
    "            self.conversation_history.insert(-1, {\"role\": 'system', \"content\": f\"Answer the user's question using this content: {search_result}. If you cannot answer the question, say 'Sorry, I don't know the answer to this one'\"})\n",
    "            \n",
    "            #[self.conversation_history.append(x) for x in next_user_prompt]\n",
    "            print(self.conversation_history)\n",
    "            \n",
    "            assistant_response = self._get_assistant_response(self.conversation_history)\n",
    "            #print(next_user_prompt)\n",
    "            #print(assistant_response)\n",
    "            self.conversation_history.append(assistant_response)\n",
    "            return assistant_response\n",
    "        else:\n",
    "            print('no search function is triggered')\n",
    "            self.conversation_history.append(assistant_response)\n",
    "            return assistant_response\n",
    "            \n",
    "        \n",
    "    def pretty_print_conversation_history(self, colorize_assistant_replies=True):\n",
    "        for entry in self.conversation_history:\n",
    "            if entry['role'] == 'system':\n",
    "                pass\n",
    "            else:\n",
    "                prefix = entry['role']\n",
    "                content = entry['content']\n",
    "                output = colored(prefix +':\\n' + content, 'green') if colorize_assistant_replies and entry['role'] == 'assistant' else prefix +':\\n' + content\n",
    "                #prefix = entry['role']\n",
    "                print(output)"
   ]
  },
  {
   "cell_type": "code",
   "execution_count": 23,
   "id": "101d502c",
   "metadata": {},
   "outputs": [
    {
     "name": "stdout",
     "output_type": "stream",
     "text": [
      "no search function is triggered\n"
     ]
    },
    {
     "data": {
      "text/plain": [
       "{'role': 'assistant',\n",
       " 'content': 'Certainly, what sport would you like this for?'}"
      ]
     },
     "execution_count": 23,
     "metadata": {},
     "output_type": "execute_result"
    }
   ],
   "source": [
    "conversation = RetrievalAssistant()\n",
    "messages = []\n",
    "system_message = Message('system', system_prompt)\n",
    "user_message = Message('user', 'how many players on each team')\n",
    "messages.append(system_message.message())\n",
    "messages.append(user_message.message())\n",
    "response_message = conversation.ask_assistant(messages)\n",
    "response_message"
   ]
  },
  {
   "cell_type": "code",
   "execution_count": 24,
   "id": "702eb4fc",
   "metadata": {},
   "outputs": [
    {
     "name": "stdout",
     "output_type": "stream",
     "text": [
      "search function call triggered\n",
      "search result    Additional balls which meet the requirements of Law 2 may be placed around   the field of play and their use is under the referee’s control.    3. Additional balls    42    \fThe Players    1. Number of players     A match is played by two teams, each with a maximum of eleven players    one must be the goalkeeper. A match may not start or continue if either team   has fewer than seven players.   If a team has fewer than seven players because one or more players has   deliberately left the field of play, the referee is not obliged to stop play and   the advantage may be played, but the match must not resume after the ball has   gone out of play if a team does not have the minimum number of seven players.   If the competition rules state that all players and substitutes must be named   before kick-off and a team starts a match with fewer than eleven players,   only the players and substitutes named on the team list may take part in the   match upon their arrival.   The number of substitutes, up to a maximum of five, which may be used in   any match played in an official competition will be determined by FIFA,   the confederation or the national football association. For men’s and women’s   competitions involving the 1st teams of clubs in the top division or senior ‘A’   international teams where competition rules permit a maximum of five   substitutes to be used, each team:  • has a maximum of three substitution opportunities*  • may additionally make substitutions at half-time    Official competitions     *Where both teams make a substitution at the same time, this will count as a   used substitution opportunity for both teams. Multiple substitutions (and   requests) by a team during the same stoppage in play count as one used   substitution opportunity.    2.\n",
      "[{'role': 'system', 'content': '\\nYou are a helpful sports knowledge base assistant. You need to capture a Question and Year from each customer.\\nThe Question is their query on sports rule, and the Sport is the sport of concern, which is either basketball or soccer.\\nThink about this step by step:\\n- The user will ask a Question\\n- You will ask them for the Sport if their question didn\\'t include a Sport\\n- Once you have the Sport, say \"searching for answers\".\\n\\nExample:\\n\\nUser: I\\'d like to know how many players on each team\\n\\nAssistant: Certainly, what sport would you like this for?\\n\\nUser: basketball please.\\n\\nAssistant: Searching for answers.\\n'}, {'role': 'user', 'content': 'how many players on each team'}, {'role': 'assistant', 'content': 'Certainly, what sport would you like this for?'}, {'role': 'system', 'content': \"Answer the user's question using this content:    Additional balls which meet the requirements of Law 2 may be placed around   the field of play and their use is under the referee’s control.    3. Additional balls    42    \\x0cThe Players    1. Number of players     A match is played by two teams, each with a maximum of eleven players    one must be the goalkeeper. A match may not start or continue if either team   has fewer than seven players.   If a team has fewer than seven players because one or more players has   deliberately left the field of play, the referee is not obliged to stop play and   the advantage may be played, but the match must not resume after the ball has   gone out of play if a team does not have the minimum number of seven players.   If the competition rules state that all players and substitutes must be named   before kick-off and a team starts a match with fewer than eleven players,   only the players and substitutes named on the team list may take part in the   match upon their arrival.   The number of substitutes, up to a maximum of five, which may be used in   any match played in an official competition will be determined by FIFA,   the confederation or the national football association. For men’s and women’s   competitions involving the 1st teams of clubs in the top division or senior ‘A’   international teams where competition rules permit a maximum of five   substitutes to be used, each team:  •\\u2002has a maximum of three substitution opportunities*  •\\u2002may additionally make substitutions at half-time    Official competitions     *Where both teams make a substitution at the same time, this will count as a   used substitution opportunity for both teams. Multiple substitutions (and   requests) by a team during the same stoppage in play count as one used   substitution opportunity.    2.. If you cannot answer the question, say 'Sorry, I don't know the answer to this one'\"}, {'role': 'user', 'content': 'basketball please.'}]\n"
     ]
    },
    {
     "data": {
      "text/plain": [
       "{'role': 'assistant', 'content': 'Searching for answers.'}"
      ]
     },
     "execution_count": 24,
     "metadata": {},
     "output_type": "execute_result"
    }
   ],
   "source": [
    "messages = []\n",
    "user_message = Message('user', 'basketball please.')\n",
    "messages.append(user_message.message())\n",
    "response_message = conversation.ask_assistant(messages)\n",
    "response_message"
   ]
  },
  {
   "cell_type": "code",
   "execution_count": 25,
   "id": "e2f2c812",
   "metadata": {},
   "outputs": [
    {
     "name": "stdout",
     "output_type": "stream",
     "text": [
      "user:\n",
      "how many players on each team\n",
      "\u001b[32massistant:\n",
      "Certainly, what sport would you like this for?\u001b[0m\n",
      "user:\n",
      "basketball please.\n",
      "\u001b[32massistant:\n",
      "Searching for answers.\u001b[0m\n"
     ]
    }
   ],
   "source": [
    "conversation.pretty_print_conversation_history()"
   ]
  },
  {
   "attachments": {},
   "cell_type": "markdown",
   "id": "a9f9ef37",
   "metadata": {},
   "source": [
    "### Chatbot\n",
    "\n",
    "Now we'll put all this into action with a real (basic) Chatbot.\n",
    "\n",
    "In the directory containing this app, execute ```streamlit run app-chat.py```. This will open up a Streamlit app in your browser where you can ask questions of your embedded data. \n"
   ]
  },
  {
   "attachments": {},
   "cell_type": "markdown",
   "id": "b8e6c4ca",
   "metadata": {},
   "source": [
    "### Consolidation\n",
    "\n",
    "Over the course of this notebook you have:\n",
    "- Laid the foundations of your product by embedding our knowledge base\n",
    "- Created a Q&A application to serve basic use cases\n",
    "- Extended this to be an interactive Chatbot\n",
    "\n",
    "These are the foundational building blocks of any Q&A or Chat application using our APIs - these are your starting point, and we look forward to seeing what you build with them!"
   ]
  },
  {
   "attachments": {},
   "cell_type": "markdown",
   "id": "e1a52aeb",
   "metadata": {},
   "source": []
  }
 ],
 "metadata": {
  "kernelspec": {
   "display_name": "venv",
   "language": "python",
   "name": "python3"
  },
  "language_info": {
   "codemirror_mode": {
    "name": "ipython",
    "version": 3
   },
   "file_extension": ".py",
   "mimetype": "text/x-python",
   "name": "python",
   "nbconvert_exporter": "python",
   "pygments_lexer": "ipython3",
   "version": "3.10.6"
  }
 },
 "nbformat": 4,
 "nbformat_minor": 5
}
